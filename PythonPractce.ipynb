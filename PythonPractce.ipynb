{
  "nbformat": 4,
  "nbformat_minor": 0,
  "metadata": {
    "colab": {
      "provenance": [],
      "authorship_tag": "ABX9TyOTC/JK6TsKqRfZL9dKu0PL",
      "include_colab_link": true
    },
    "kernelspec": {
      "name": "python3",
      "display_name": "Python 3"
    },
    "language_info": {
      "name": "python"
    }
  },
  "cells": [
    {
      "cell_type": "markdown",
      "metadata": {
        "id": "view-in-github",
        "colab_type": "text"
      },
      "source": [
        "<a href=\"https://colab.research.google.com/github/Gul-Fatima/Python-Essentials/blob/main/PythonPractce.ipynb\" target=\"_parent\"><img src=\"https://colab.research.google.com/assets/colab-badge.svg\" alt=\"Open In Colab\"/></a>"
      ]
    },
    {
      "cell_type": "markdown",
      "source": [
        "1. Write a code to find the minimum among three given numbers."
      ],
      "metadata": {
        "id": "NIA5F-SMChYg"
      }
    },
    {
      "cell_type": "code",
      "execution_count": 2,
      "metadata": {
        "colab": {
          "base_uri": "https://localhost:8080/"
        },
        "id": "54GNuos7CFqc",
        "outputId": "4f25d514-a61c-45e4-ad23-9df69af3da14"
      },
      "outputs": [
        {
          "output_type": "execute_result",
          "data": {
            "text/plain": [
              "4"
            ]
          },
          "metadata": {},
          "execution_count": 2
        }
      ],
      "source": [
        "a = 8\n",
        "b = 5\n",
        "c = 4\n",
        "\n",
        "def min(a,b,c):\n",
        "  if a<b and a< c:\n",
        "    return a\n",
        "  if b < a and b < c:\n",
        "    return b\n",
        "  else:\n",
        "    return c\n",
        "\n",
        "min(a,b,c)"
      ]
    },
    {
      "cell_type": "markdown",
      "source": [
        "2. Write a code to check whether a given number is a palindrome."
      ],
      "metadata": {
        "id": "I7Fr3bjwC_rr"
      }
    },
    {
      "cell_type": "code",
      "source": [
        "a = '45'\n",
        "b = '44'\n",
        "def palindrome(a):\n",
        "  return a[:] == a[::-1]\n",
        "\n",
        "palindrome(a)\n",
        "#palindrome(b)"
      ],
      "metadata": {
        "colab": {
          "base_uri": "https://localhost:8080/"
        },
        "id": "ghqKwFmEC3uI",
        "outputId": "50a35df9-1cf6-43fe-c4bf-1e814c5b7dd6"
      },
      "execution_count": 6,
      "outputs": [
        {
          "output_type": "execute_result",
          "data": {
            "text/plain": [
              "False"
            ]
          },
          "metadata": {},
          "execution_count": 6
        }
      ]
    },
    {
      "cell_type": "markdown",
      "source": [
        "3. Write a code to find the sum of numbers divisible by 4.The code must allow the user to accept a number and add it to the sum if it is divisible by 4. It should continue accepting numbers as long as the user wants to provide an input and should display the final sum."
      ],
      "metadata": {
        "id": "tbdtfGixDwcN"
      }
    },
    {
      "cell_type": "code",
      "source": [
        "def sum_divisible_by_4():\n",
        "  a = input(\"Enter the limit: \")\n",
        "  sum = 0\n",
        "  for i in range (0,int(a)) :\n",
        "    if i % 4 == 0:\n",
        "      sum += i\n",
        "  print(sum)\n",
        "sum_divisible_by_4()"
      ],
      "metadata": {
        "colab": {
          "base_uri": "https://localhost:8080/"
        },
        "id": "Lm2E4lXzDcKN",
        "outputId": "a1b08a11-ca0f-4da5-f356-9fce23b6fbaf"
      },
      "execution_count": 9,
      "outputs": [
        {
          "output_type": "stream",
          "name": "stdout",
          "text": [
            "Enter the limit: 8\n",
            "4\n"
          ]
        }
      ]
    },
    {
      "cell_type": "markdown",
      "source": [
        "4. A three digit number is said to be an “Armstrong number” if the sum of the third power of its individual digits is equal to the number itself.Write a program to check whether a number is armstrong or not."
      ],
      "metadata": {
        "id": "TgofHliJEutv"
      }
    },
    {
      "cell_type": "code",
      "source": [
        "a = 890\n",
        "\n",
        "def armstrong(a):\n",
        "  sum = 0\n",
        "  for i in str(a):\n",
        "    sum += int(i)**3\n",
        "\n",
        "  return sum == a\n",
        "\n",
        "armstrong(a)"
      ],
      "metadata": {
        "colab": {
          "base_uri": "https://localhost:8080/"
        },
        "id": "PcG_ugCIEgWf",
        "outputId": "8cbda905-aee0-417d-e7d3-522d4ea9c030"
      },
      "execution_count": 10,
      "outputs": [
        {
          "output_type": "execute_result",
          "data": {
            "text/plain": [
              "False"
            ]
          },
          "metadata": {},
          "execution_count": 10
        }
      ]
    },
    {
      "cell_type": "markdown",
      "source": [
        "5. JIT University offering degree courses to students has decided to provide scholarship based on the following details:\n",
        "Branch of study\n",
        "Score (%)\n",
        "Scholarship %\n",
        "Remarks\n",
        "Arts\n",
        "Score is at least 90\n",
        "50\n",
        "The student is eligible only for one scholarship% even if both the score conditions are valid for the given branch of study. In such cases, students are eligible for the highest scholarship% applicable among the two.\n",
        "Arts\n",
        "Score is an odd number\n",
        "5\n",
        "Engineering\n",
        "Score is more than 85\n",
        "50\n",
        "Engineering\n",
        "Score is divisible by 7\n",
        "5\n",
        "\n",
        "If there are 500 students who have joined the university, write a code to calculate and display the final fees to be paid by each student.\n",
        "You may accept the branch of study, score and course fee as inputs for each student and calculate the final fees to be paid by each student based on formulae given below:\n",
        "Scholarship amount=course fee * (scholarship%)\n",
        "Final fee= course fee - scholarship amount\n"
      ],
      "metadata": {
        "id": "lISLz2zoFcCb"
      }
    },
    {
      "cell_type": "markdown",
      "source": [
        "6. The flight ticket rates for a round-trip (Mumbai->Dubai) were as follows:\n",
        "\n",
        "* Rate per Adult: Rs. 37550.0\n",
        "* Rate per Child: 1/3rd of the rate per adult\n",
        "* Service Tax: 7% of the ticket amount (including all passengers)\n",
        "\n",
        "As it was a holiday season, the airline also offered a **10% discount** on the final ticket cost (after inclusion of the service tax).\n",
        "Find and display the total ticket cost for a group which had adults and children.\n"
      ],
      "metadata": {
        "id": "W6iB9gkzFjHl"
      }
    },
    {
      "cell_type": "code",
      "source": [
        "group = {\n",
        "    'adults': 2,\n",
        "    'children': 1\n",
        "}\n",
        "price = 0\n",
        "def ticket_price():\n",
        "  global price\n",
        "  for i in group:\n",
        "      if i == 'adults':\n",
        "        price += group[i] * 37550\n",
        "      if i == 'children':\n",
        "        price += group[i] * 0.333*37550\n",
        "\n",
        "  price += price * 0.07\n",
        "  price -= price * 0.1\n",
        "  return price\n",
        "\n",
        "ticket_price()"
      ],
      "metadata": {
        "colab": {
          "base_uri": "https://localhost:8080/"
        },
        "id": "FueGDZyjFJJJ",
        "outputId": "6bfc4b2f-53a4-429a-aa49-f06e86711135"
      },
      "execution_count": 21,
      "outputs": [
        {
          "output_type": "execute_result",
          "data": {
            "text/plain": [
              "84362.79645"
            ]
          },
          "metadata": {},
          "execution_count": 21
        }
      ]
    },
    {
      "cell_type": "markdown",
      "source": [
        "7.  Write a python program that displays a message as follows for a given number:\n",
        "* If it is a multiple of three, display \"Zip\"\n",
        "* If it is a multiple of five, display \"Zap\".\n",
        "* If it is a multiple of both three and five, display \"Zoom\".\n",
        "* If it does not satisfy any of the above given conditions, display \"Invalid\".\n"
      ],
      "metadata": {
        "id": "debCM1cGKxzc"
      }
    },
    {
      "cell_type": "code",
      "source": [
        "num = 15\n",
        "\n",
        "def multiple():\n",
        "  if num % 3 == 0 and num % 5 == 0:\n",
        "    return 'Zoom'\n",
        "  elif num % 3 == 0:\n",
        "    return 'Zip'\n",
        "  elif num % 5 == 0:\n",
        "    return 'Zap'\n",
        "  else:\n",
        "    return 'invalid'\n",
        "\n",
        "multiple()"
      ],
      "metadata": {
        "colab": {
          "base_uri": "https://localhost:8080/",
          "height": 35
        },
        "id": "C__HHIICI8iu",
        "outputId": "e95ac5dc-57af-44a6-9fab-ba6be78ae728"
      },
      "execution_count": 23,
      "outputs": [
        {
          "output_type": "execute_result",
          "data": {
            "text/plain": [
              "'Zoom'"
            ],
            "application/vnd.google.colaboratory.intrinsic+json": {
              "type": "string"
            }
          },
          "metadata": {},
          "execution_count": 23
        }
      ]
    },
    {
      "cell_type": "markdown",
      "source": [
        "8.\tA teacher in a school wants to find and display the grade of a student based on his/her percentage score. The criterion for grades is as given below:\n",
        "\n",
        "Between 80 and 100\n",
        "A\n",
        "\n",
        "Between 73 and 79\n",
        "B\n",
        "\n",
        "Between 65 and 72\n",
        "C\n",
        "\n",
        "Between 0 and 64\n",
        "D\n",
        "\n",
        "Any other value\n",
        "Z\n",
        "\n"
      ],
      "metadata": {
        "id": "mKd5YUqjLaOO"
      }
    },
    {
      "cell_type": "code",
      "source": [
        "def grade(grade):\n",
        "  if grade >= 80 and grade <= 100:\n",
        "    return 'A'\n",
        "  if grade >= 73 and grade <= 79:\n",
        "    return 'B'\n",
        "  if grade >= 65 and grade <= 72:\n",
        "    return 'C'\n",
        "  if grade>= 0 and grade <= 64:\n",
        "    return 'C'\n",
        "  else:\n",
        "     return 'Z'\n",
        "\n",
        "grade(80)"
      ],
      "metadata": {
        "colab": {
          "base_uri": "https://localhost:8080/",
          "height": 35
        },
        "id": "7fTOtbfFLLZv",
        "outputId": "91a5cc21-2239-4890-a0e2-a8f34d489e88"
      },
      "execution_count": 3,
      "outputs": [
        {
          "output_type": "execute_result",
          "data": {
            "text/plain": [
              "'A'"
            ],
            "application/vnd.google.colaboratory.intrinsic+json": {
              "type": "string"
            }
          },
          "metadata": {},
          "execution_count": 3
        }
      ]
    },
    {
      "cell_type": "markdown",
      "source": [],
      "metadata": {
        "id": "sH03e4aRLZT6"
      }
    }
  ]
}